{
 "cells": [
  {
   "cell_type": "code",
   "execution_count": 1,
   "id": "b12a0b52",
   "metadata": {},
   "outputs": [],
   "source": [
    "from pyspark.sql import SparkSession\n",
    "from pyspark.sql.types import StructType, StringType, ArrayType, DoubleType, LongType, IntegerType\n",
    "from pyspark.sql.functions import from_json, col\n",
    "from pyspark.sql.streaming import StreamingQueryListener"
   ]
  },
  {
   "cell_type": "code",
   "execution_count": 2,
   "id": "dcea04b9",
   "metadata": {},
   "outputs": [],
   "source": [
    "# Listener for tracking spark batches status and rows numbers\n",
    "class SparkListener(StreamingQueryListener):\n",
    "    def onQueryStarted(self, event):\n",
    "        print(f\"Query started: {event.id}\")\n",
    "\n",
    "    def onQueryProgress(self, event):\n",
    "        progress = event.progress\n",
    "        batch_id = progress['batchId']\n",
    "        num_input_rows = progress['numInputRows']\n",
    "        print(f\"Batch {batch_id} processed, rows: {num_input_rows}\")\n",
    "\n",
    "    def onQueryTerminated(self, event):\n",
    "        print(f\"Query terminated: {event.id}\")\n"
   ]
  },
  {
   "cell_type": "code",
   "execution_count": 3,
   "id": "646fba57",
   "metadata": {},
   "outputs": [
    {
     "name": "stderr",
     "output_type": "stream",
     "text": [
      "WARNING: Using incubator modules: jdk.incubator.vector\n",
      "Using Spark's default log4j profile: org/apache/spark/log4j2-defaults.properties\n",
      "25/06/15 17:03:47 WARN Utils: Your hostname, DESKTOP-5C2PQBK, resolves to a loopback address: 127.0.1.1; using 10.255.255.254 instead (on interface lo)\n",
      "25/06/15 17:03:47 WARN Utils: Set SPARK_LOCAL_IP if you need to bind to another address\n",
      ":: loading settings :: url = jar:file:/home/yagel/.local/lib/python3.10/site-packages/pyspark/jars/ivy-2.5.3.jar!/org/apache/ivy/core/settings/ivysettings.xml\n",
      "Ivy Default Cache set to: /home/yagel/.ivy2.5.2/cache\n",
      "The jars for the packages stored in: /home/yagel/.ivy2.5.2/jars\n",
      "org.apache.spark#spark-sql-kafka-0-10_2.13 added as a dependency\n",
      ":: resolving dependencies :: org.apache.spark#spark-submit-parent-8b8f54c1-076f-4b88-88bc-414ee99ac73a;1.0\n",
      "\tconfs: [default]\n",
      "\tfound org.apache.spark#spark-sql-kafka-0-10_2.13;4.0.0 in central\n",
      "\tfound org.apache.spark#spark-token-provider-kafka-0-10_2.13;4.0.0 in central\n",
      "\tfound org.apache.kafka#kafka-clients;3.9.0 in central\n",
      "\tfound org.lz4#lz4-java;1.8.0 in central\n",
      "\tfound org.xerial.snappy#snappy-java;1.1.10.7 in central\n",
      "\tfound org.slf4j#slf4j-api;2.0.16 in central\n",
      "\tfound org.apache.hadoop#hadoop-client-runtime;3.4.1 in central\n",
      "\tfound org.apache.hadoop#hadoop-client-api;3.4.1 in central\n",
      "\tfound com.google.code.findbugs#jsr305;3.0.0 in central\n",
      "\tfound org.scala-lang.modules#scala-parallel-collections_2.13;1.2.0 in central\n",
      "\tfound org.apache.commons#commons-pool2;2.12.0 in central\n",
      "downloading https://repo1.maven.org/maven2/org/apache/spark/spark-sql-kafka-0-10_2.13/4.0.0/spark-sql-kafka-0-10_2.13-4.0.0.jar ...\n",
      "\t[SUCCESSFUL ] org.apache.spark#spark-sql-kafka-0-10_2.13;4.0.0!spark-sql-kafka-0-10_2.13.jar (213ms)\n",
      "downloading https://repo1.maven.org/maven2/org/apache/spark/spark-token-provider-kafka-0-10_2.13/4.0.0/spark-token-provider-kafka-0-10_2.13-4.0.0.jar ...\n",
      "\t[SUCCESSFUL ] org.apache.spark#spark-token-provider-kafka-0-10_2.13;4.0.0!spark-token-provider-kafka-0-10_2.13.jar (128ms)\n",
      "downloading https://repo1.maven.org/maven2/org/scala-lang/modules/scala-parallel-collections_2.13/1.2.0/scala-parallel-collections_2.13-1.2.0.jar ...\n",
      "\t[SUCCESSFUL ] org.scala-lang.modules#scala-parallel-collections_2.13;1.2.0!scala-parallel-collections_2.13.jar (209ms)\n",
      "downloading https://repo1.maven.org/maven2/org/apache/kafka/kafka-clients/3.9.0/kafka-clients-3.9.0.jar ...\n",
      "\t[SUCCESSFUL ] org.apache.kafka#kafka-clients;3.9.0!kafka-clients.jar (474ms)\n",
      "downloading https://repo1.maven.org/maven2/org/apache/commons/commons-pool2/2.12.0/commons-pool2-2.12.0.jar ...\n",
      "\t[SUCCESSFUL ] org.apache.commons#commons-pool2;2.12.0!commons-pool2.jar (128ms)\n",
      "downloading https://repo1.maven.org/maven2/org/apache/hadoop/hadoop-client-runtime/3.4.1/hadoop-client-runtime-3.4.1.jar ...\n",
      "\t[SUCCESSFUL ] org.apache.hadoop#hadoop-client-runtime;3.4.1!hadoop-client-runtime.jar (1891ms)\n",
      "downloading https://repo1.maven.org/maven2/org/xerial/snappy/snappy-java/1.1.10.7/snappy-java-1.1.10.7.jar ...\n",
      "\t[SUCCESSFUL ] org.xerial.snappy#snappy-java;1.1.10.7!snappy-java.jar(bundle) (214ms)\n",
      "downloading https://repo1.maven.org/maven2/org/slf4j/slf4j-api/2.0.16/slf4j-api-2.0.16.jar ...\n",
      "\t[SUCCESSFUL ] org.slf4j#slf4j-api;2.0.16!slf4j-api.jar (128ms)\n",
      "downloading https://repo1.maven.org/maven2/org/apache/hadoop/hadoop-client-api/3.4.1/hadoop-client-api-3.4.1.jar ...\n",
      "\t[SUCCESSFUL ] org.apache.hadoop#hadoop-client-api;3.4.1!hadoop-client-api.jar (-1069ms)\n",
      ":: resolution report :: resolve 12024ms :: artifacts dl 2373ms\n",
      "\t:: modules in use:\n",
      "\tcom.google.code.findbugs#jsr305;3.0.0 from central in [default]\n",
      "\torg.apache.commons#commons-pool2;2.12.0 from central in [default]\n",
      "\torg.apache.hadoop#hadoop-client-api;3.4.1 from central in [default]\n",
      "\torg.apache.hadoop#hadoop-client-runtime;3.4.1 from central in [default]\n",
      "\torg.apache.kafka#kafka-clients;3.9.0 from central in [default]\n",
      "\torg.apache.spark#spark-sql-kafka-0-10_2.13;4.0.0 from central in [default]\n",
      "\torg.apache.spark#spark-token-provider-kafka-0-10_2.13;4.0.0 from central in [default]\n",
      "\torg.lz4#lz4-java;1.8.0 from central in [default]\n",
      "\torg.scala-lang.modules#scala-parallel-collections_2.13;1.2.0 from central in [default]\n",
      "\torg.slf4j#slf4j-api;2.0.16 from central in [default]\n",
      "\torg.xerial.snappy#snappy-java;1.1.10.7 from central in [default]\n",
      "\t---------------------------------------------------------------------\n",
      "\t|                  |            modules            ||   artifacts   |\n",
      "\t|       conf       | number| search|dwnlded|evicted|| number|dwnlded|\n",
      "\t---------------------------------------------------------------------\n",
      "\t|      default     |   11  |   9   |   9   |   0   ||   11  |   9   |\n",
      "\t---------------------------------------------------------------------\n",
      ":: retrieving :: org.apache.spark#spark-submit-parent-8b8f54c1-076f-4b88-88bc-414ee99ac73a\n",
      "\tconfs: [default]\n",
      "\t9 artifacts copied, 2 already retrieved (61974kB/126ms)\n",
      "25/06/15 17:04:03 WARN NativeCodeLoader: Unable to load native-hadoop library for your platform... using builtin-java classes where applicable\n",
      "Using Spark's default log4j profile: org/apache/spark/log4j2-defaults.properties\n",
      "Setting default log level to \"WARN\".\n",
      "To adjust logging level use sc.setLogLevel(newLevel). For SparkR, use setLogLevel(newLevel).\n"
     ]
    },
    {
     "name": "stdout",
     "output_type": "stream",
     "text": [
      "Query started: 1acc8e2f-8737-43a5-80ba-3d545de5be44\n"
     ]
    }
   ],
   "source": [
    "# New spark session\n",
    "spark_inst = SparkSession.builder.appName(\"KafkaSparkConsumer\")\\\n",
    "    .master(\"local[*]\").config(\"spark.jars.packages\", \"org.apache.spark:spark-sql-kafka-0-10_2.13:4.0.0\")\\\n",
    "    .getOrCreate()\n",
    "spark_inst.streams.addListener(SparkListener())"
   ]
  },
  {
   "cell_type": "code",
   "execution_count": 6,
   "id": "569d45c5",
   "metadata": {},
   "outputs": [],
   "source": [
    "\n",
    "# Read webstock stream from kafka broker for my stock_stream topic\n",
    "df = spark_inst.readStream \\\n",
    "    .format(\"kafka\") \\\n",
    "    .option(\"kafka.bootstrap.servers\", \"172.20.15.243:9092\") \\\n",
    "    .option(\"subscribe\", \"stock_stream\") \\\n",
    "    .option(\"startingOffsets\", \"earliest\") \\\n",
    "    .load()"
   ]
  },
  {
   "cell_type": "code",
   "execution_count": 7,
   "id": "0d0a8980",
   "metadata": {},
   "outputs": [],
   "source": [
    "# Convert binary value to string and parse JSON\n",
    "schema = StructType()\\\n",
    "    .add(\"c\", ArrayType(StringType())) \\\n",
    "    .add(\"p\", DoubleType()) \\\n",
    "    .add(\"s\", StringType()) \\\n",
    "    .add(\"t\", LongType()) \\\n",
    "    .add(\"v\", IntegerType())"
   ]
  },
  {
   "cell_type": "code",
   "execution_count": 8,
   "id": "50a00991",
   "metadata": {},
   "outputs": [],
   "source": [
    "# Convert kafka binary data to json/str\n",
    "json_df = df.selectExpr(\"CAST(value AS STRING) as json_str\") \\\n",
    "    .select(from_json(col(\"json_str\"), schema).alias(\"data\")) \\\n",
    "    .select(\"data.*\")"
   ]
  },
  {
   "cell_type": "code",
   "execution_count": 9,
   "id": "a6ba49e0",
   "metadata": {},
   "outputs": [],
   "source": [
    "# Remove unncessary columns and renaming columns\n",
    "transformed_df = json_df.select(\n",
    "    col(\"s\").alias(\"stock_symbol\"),\n",
    "    col(\"p\").alias(\"last_price\"),\n",
    "    (col(\"t\") / 1000).cast(\"timestamp\").alias(\"timestamp\"),\n",
    "    col(\"v\").alias(\"volume\")\n",
    ")"
   ]
  },
  {
   "cell_type": "code",
   "execution_count": 10,
   "id": "5d3d4f65",
   "metadata": {},
   "outputs": [
    {
     "name": "stderr",
     "output_type": "stream",
     "text": [
      "25/06/15 17:05:41 WARN ResolveWriteToStream: spark.sql.adaptive.enabled is not supported in streaming DataFrames/Datasets and will be disabled.\n"
     ]
    }
   ],
   "source": [
    "# Print streaming data to console  \n",
    "# query = transformed_df.writeStream \\\n",
    "#     .format(\"console\") \\\n",
    "#     .outputMode(\"append\") \\\n",
    "#     .start()\n",
    "#query.awaitTermination()\n",
    "query = transformed_df.writeStream \\\n",
    "    .format(\"parquet\") \\\n",
    "    .option(\"path\", \"./data/stock_parquet/\") \\\n",
    "    .option(\"checkpointLocation\", \"./data/checkpoints/\") \\\n",
    "    .outputMode(\"append\") \\\n",
    "    .start()"
   ]
  },
  {
   "cell_type": "code",
   "execution_count": 11,
   "id": "3c1c65e2",
   "metadata": {},
   "outputs": [
    {
     "name": "stderr",
     "output_type": "stream",
     "text": [
      "                                                                                \r"
     ]
    },
    {
     "name": "stdout",
     "output_type": "stream",
     "text": [
      "+---------------+----------+--------------------+------+\n",
      "|   stock_symbol|last_price|           timestamp|volume|\n",
      "+---------------+----------+--------------------+------+\n",
      "|           AAPL|    201.77|2025-06-09 21:18:...|   100|\n",
      "|BINANCE:BTCUSDT| 108479.98|2025-06-09 21:18:...|  NULL|\n",
      "+---------------+----------+--------------------+------+\n",
      "only showing top 2 rows\n"
     ]
    }
   ],
   "source": [
    "df= spark_inst.read.parquet(\"./data/stock_parquet/\")\n",
    "df.show(2)"
   ]
  },
  {
   "cell_type": "code",
   "execution_count": null,
   "id": "3c19be89",
   "metadata": {},
   "outputs": [],
   "source": [
    "#df = df.repartition(10)  # Set reasonable partition count for large-scale\n",
    "df.groupBy(\"stock_symbol\").count().orderBy(col('count').desc()).show()"
   ]
  },
  {
   "cell_type": "code",
   "execution_count": null,
   "id": "60ee4fe6",
   "metadata": {},
   "outputs": [],
   "source": [
    "df.rdd.getNumPartitions()"
   ]
  },
  {
   "cell_type": "code",
   "execution_count": null,
   "id": "d7db514d",
   "metadata": {},
   "outputs": [],
   "source": []
  }
 ],
 "metadata": {
  "kernelspec": {
   "display_name": "Python 3",
   "language": "python",
   "name": "python3"
  },
  "language_info": {
   "codemirror_mode": {
    "name": "ipython",
    "version": 3
   },
   "file_extension": ".py",
   "mimetype": "text/x-python",
   "name": "python",
   "nbconvert_exporter": "python",
   "pygments_lexer": "ipython3",
   "version": "3.10.12"
  }
 },
 "nbformat": 4,
 "nbformat_minor": 5
}
